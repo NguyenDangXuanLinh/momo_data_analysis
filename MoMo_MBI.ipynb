{
 "cells": [
  {
   "cell_type": "code",
   "execution_count": 1,
   "id": "9cd30dc3-e65e-4a18-aecc-6fc5456b88ab",
   "metadata": {},
   "outputs": [],
   "source": [
    "import numpy as np \n",
    "import pandas as pd \n",
    "import seaborn as sns\n",
    "import matplotlib.pyplot as plt\n",
    "%matplotlib inline\n",
    "import warnings\n",
    "warnings.filterwarnings(\"ignore\")"
   ]
  },
  {
   "cell_type": "code",
   "execution_count": 29,
   "id": "45ea6a79-7718-49f5-bb1f-1953ad9d2f22",
   "metadata": {},
   "outputs": [],
   "source": [
    "df_trans = pd.read_csv(\"MoMo_analysis/MOMO_DATA-TRANSACTION.csv\")\n",
    "df_user = pd.read_csv(\"MoMo_analysis/MOMO_USER.csv\")\n",
    "df_commission = pd.read_csv(\"MoMo_analysis/MOMO_DATA_COMMISSION.csv\")"
   ]
  },
  {
   "cell_type": "code",
   "execution_count": 30,
   "id": "c681c053-a6a5-4871-8be6-b3a70ea74d0e",
   "metadata": {},
   "outputs": [],
   "source": [
    "def dataset_observation(dataset):\n",
    "    for i in dataset.columns:\n",
    "        rate = dataset[i].isna().sum() / len(dataset) * 100\n",
    "        if rate > 0: print('The missing rate of {} is {}'.format(i, round(rate, 2)))"
   ]
  },
  {
   "cell_type": "code",
   "execution_count": 31,
   "id": "173b3755-7f33-47d8-ae8d-8bbe4e4d73d9",
   "metadata": {},
   "outputs": [
    {
     "name": "stdout",
     "output_type": "stream",
     "text": [
      "----------Data Transactions----------\n",
      "The missing rate of Purchase_status is 83.44\n",
      "\n",
      "<class 'pandas.core.frame.DataFrame'>\n",
      "RangeIndex: 13495 entries, 0 to 13494\n",
      "Data columns (total 6 columns):\n",
      " #   Column           Non-Null Count  Dtype \n",
      "---  ------           --------------  ----- \n",
      " 0   user_id          13495 non-null  int64 \n",
      " 1   order_id         13495 non-null  int64 \n",
      " 2   Date             13495 non-null  object\n",
      " 3   Amount           13495 non-null  int64 \n",
      " 4   Merchant_id      13495 non-null  int64 \n",
      " 5   Purchase_status  2235 non-null   object\n",
      "dtypes: int64(4), object(2)\n",
      "memory usage: 632.7+ KB\n",
      "\n",
      "----------Users Data----------\n",
      "\n",
      "<class 'pandas.core.frame.DataFrame'>\n",
      "RangeIndex: 13428 entries, 0 to 13427\n",
      "Data columns (total 5 columns):\n",
      " #   Column           Non-Null Count  Dtype \n",
      "---  ------           --------------  ----- \n",
      " 0   User_id          13428 non-null  int64 \n",
      " 1   First_tran_date  13428 non-null  object\n",
      " 2   Location         13428 non-null  object\n",
      " 3   Age              13428 non-null  object\n",
      " 4   Gender           13428 non-null  object\n",
      "dtypes: int64(1), object(4)\n",
      "memory usage: 524.7+ KB\n",
      "\n",
      "----------Commission----------\n",
      "The missing rate of Merchant_name is 99.5\n",
      "The missing rate of Merchant_id is 99.5\n",
      "The missing rate of Rate_pct is 99.5\n",
      "\n",
      "<class 'pandas.core.frame.DataFrame'>\n",
      "RangeIndex: 999 entries, 0 to 998\n",
      "Data columns (total 3 columns):\n",
      " #   Column         Non-Null Count  Dtype  \n",
      "---  ------         --------------  -----  \n",
      " 0   Merchant_name  5 non-null      object \n",
      " 1   Merchant_id    5 non-null      float64\n",
      " 2   Rate_pct       5 non-null      float64\n",
      "dtypes: float64(2), object(1)\n",
      "memory usage: 23.5+ KB\n",
      "\n"
     ]
    }
   ],
   "source": [
    "title=['Data Transactions', 'Users Data', 'Commission']\n",
    "for i, dataset in enumerate([df_trans, df_user,df_commission]):\n",
    "    print('-'*10 + title[i] + '-'*10)\n",
    "    dataset_observation(dataset)\n",
    "    print()\n",
    "    dataset.info()\n",
    "    print()"
   ]
  },
  {
   "cell_type": "markdown",
   "id": "bda0c80c-9b73-488e-8e33-2395cca37e3d",
   "metadata": {},
   "source": [
    "-> 1 Missing in Purchase status but we do not use it now so I won't clean it yet"
   ]
  },
  {
   "attachments": {},
   "cell_type": "markdown",
   "id": "d8a72b43-325e-433d-9829-166731a4fb1c",
   "metadata": {},
   "source": [
    "# Processing\n",
    "\n",
    "1. Using data from the 'Commission' table, add a column 'Revenue' in the 'Transactions' table that displays MoMo's earned revenue for each order, and then calculate MoMo's total revenue in January 2020.\n",
    "2. What is MoMo's most profitable month?\n",
    "3. What day of the week does MoMo make the most money, on average? The least money?\n",
    "4. Combined with the 'User_Info' table, add columns: Age, Gender, Location, Type_user (New/Current) in 'Transactions' table and calculate the total number of new users in December 2020.\n",
    "   New = the transaction was in the month of the first time the user used Topup; Current = the user had used Topup before that month)"
   ]
  },
  {
   "cell_type": "code",
   "execution_count": 32,
   "id": "fc28c15b-a4b2-4a49-ab5e-f1452f84d6b4",
   "metadata": {},
   "outputs": [
    {
     "data": {
      "text/html": [
       "<div>\n",
       "<style scoped>\n",
       "    .dataframe tbody tr th:only-of-type {\n",
       "        vertical-align: middle;\n",
       "    }\n",
       "\n",
       "    .dataframe tbody tr th {\n",
       "        vertical-align: top;\n",
       "    }\n",
       "\n",
       "    .dataframe thead th {\n",
       "        text-align: right;\n",
       "    }\n",
       "</style>\n",
       "<table border=\"1\" class=\"dataframe\">\n",
       "  <thead>\n",
       "    <tr style=\"text-align: right;\">\n",
       "      <th></th>\n",
       "      <th>user_id</th>\n",
       "      <th>order_id</th>\n",
       "      <th>Date</th>\n",
       "      <th>Amount</th>\n",
       "      <th>Merchant_id</th>\n",
       "      <th>Purchase_status</th>\n",
       "    </tr>\n",
       "  </thead>\n",
       "  <tbody>\n",
       "    <tr>\n",
       "      <th>0</th>\n",
       "      <td>21269588</td>\n",
       "      <td>4169517626</td>\n",
       "      <td>2020-01-01</td>\n",
       "      <td>10000</td>\n",
       "      <td>13</td>\n",
       "      <td>NaN</td>\n",
       "    </tr>\n",
       "    <tr>\n",
       "      <th>1</th>\n",
       "      <td>28097592</td>\n",
       "      <td>4170276686</td>\n",
       "      <td>2020-01-01</td>\n",
       "      <td>20000</td>\n",
       "      <td>13</td>\n",
       "      <td>NaN</td>\n",
       "    </tr>\n",
       "    <tr>\n",
       "      <th>2</th>\n",
       "      <td>47435144</td>\n",
       "      <td>4166729310</td>\n",
       "      <td>2020-01-01</td>\n",
       "      <td>10000</td>\n",
       "      <td>12</td>\n",
       "      <td>NaN</td>\n",
       "    </tr>\n",
       "    <tr>\n",
       "      <th>3</th>\n",
       "      <td>29080935</td>\n",
       "      <td>4174460303</td>\n",
       "      <td>2020-01-01</td>\n",
       "      <td>10000</td>\n",
       "      <td>13</td>\n",
       "      <td>NaN</td>\n",
       "    </tr>\n",
       "    <tr>\n",
       "      <th>4</th>\n",
       "      <td>14591075</td>\n",
       "      <td>4168216749</td>\n",
       "      <td>2020-01-01</td>\n",
       "      <td>10000</td>\n",
       "      <td>12</td>\n",
       "      <td>NaN</td>\n",
       "    </tr>\n",
       "  </tbody>\n",
       "</table>\n",
       "</div>"
      ],
      "text/plain": [
       "    user_id    order_id        Date  Amount  Merchant_id Purchase_status\n",
       "0  21269588  4169517626  2020-01-01   10000           13             NaN\n",
       "1  28097592  4170276686  2020-01-01   20000           13             NaN\n",
       "2  47435144  4166729310  2020-01-01   10000           12             NaN\n",
       "3  29080935  4174460303  2020-01-01   10000           13             NaN\n",
       "4  14591075  4168216749  2020-01-01   10000           12             NaN"
      ]
     },
     "execution_count": 32,
     "metadata": {},
     "output_type": "execute_result"
    }
   ],
   "source": [
    "df_trans.head()"
   ]
  },
  {
   "cell_type": "code",
   "execution_count": 33,
   "id": "8d8e3d01-b07a-4422-9966-770f7e4fe76e",
   "metadata": {
    "scrolled": true
   },
   "outputs": [
    {
     "data": {
      "text/html": [
       "<div>\n",
       "<style scoped>\n",
       "    .dataframe tbody tr th:only-of-type {\n",
       "        vertical-align: middle;\n",
       "    }\n",
       "\n",
       "    .dataframe tbody tr th {\n",
       "        vertical-align: top;\n",
       "    }\n",
       "\n",
       "    .dataframe thead th {\n",
       "        text-align: right;\n",
       "    }\n",
       "</style>\n",
       "<table border=\"1\" class=\"dataframe\">\n",
       "  <thead>\n",
       "    <tr style=\"text-align: right;\">\n",
       "      <th></th>\n",
       "      <th>Merchant_name</th>\n",
       "      <th>Merchant_id</th>\n",
       "      <th>Rate_pct</th>\n",
       "    </tr>\n",
       "  </thead>\n",
       "  <tbody>\n",
       "    <tr>\n",
       "      <th>0</th>\n",
       "      <td>Viettel</td>\n",
       "      <td>12.0</td>\n",
       "      <td>2.0</td>\n",
       "    </tr>\n",
       "    <tr>\n",
       "      <th>1</th>\n",
       "      <td>Mobifone</td>\n",
       "      <td>13.0</td>\n",
       "      <td>3.0</td>\n",
       "    </tr>\n",
       "    <tr>\n",
       "      <th>2</th>\n",
       "      <td>Vinaphone</td>\n",
       "      <td>14.0</td>\n",
       "      <td>4.0</td>\n",
       "    </tr>\n",
       "    <tr>\n",
       "      <th>3</th>\n",
       "      <td>Vietnamobile</td>\n",
       "      <td>15.0</td>\n",
       "      <td>4.0</td>\n",
       "    </tr>\n",
       "    <tr>\n",
       "      <th>4</th>\n",
       "      <td>Gmobile</td>\n",
       "      <td>16.0</td>\n",
       "      <td>4.0</td>\n",
       "    </tr>\n",
       "  </tbody>\n",
       "</table>\n",
       "</div>"
      ],
      "text/plain": [
       "  Merchant_name  Merchant_id  Rate_pct\n",
       "0       Viettel         12.0       2.0\n",
       "1      Mobifone         13.0       3.0\n",
       "2     Vinaphone         14.0       4.0\n",
       "3  Vietnamobile         15.0       4.0\n",
       "4       Gmobile         16.0       4.0"
      ]
     },
     "execution_count": 33,
     "metadata": {},
     "output_type": "execute_result"
    }
   ],
   "source": [
    "df_commission.head()"
   ]
  },
  {
   "cell_type": "markdown",
   "id": "25809c9e-3cf5-46d9-88bc-7db62f5ba98e",
   "metadata": {},
   "source": [
    "## 1. Total Revenue"
   ]
  },
  {
   "cell_type": "code",
   "execution_count": 34,
   "id": "e09c9680-980f-493a-a097-f9df75d31480",
   "metadata": {},
   "outputs": [],
   "source": [
    "df = df_trans.copy()"
   ]
  },
  {
   "cell_type": "code",
   "execution_count": 40,
   "id": "e8b71106-9ef6-4e72-ac0e-2b4275db8853",
   "metadata": {},
   "outputs": [],
   "source": [
    "df['Rate_pct'] = df['Merchant_id'].apply(lambda x: 2 if x == 12 else\n",
    "                                        3 if x== 13 else 4)\n",
    "df[\"Revenue\"] = df[\"Amount\"] * df[\"Rate_pct\"]\n",
    "df['Date'] = df['Date'].str.strip()\n",
    "df['Date'] = pd.to_datetime(df['Date'])\n",
    "df['add_month'] = df['Date'].dt.month"
   ]
  },
  {
   "cell_type": "code",
   "execution_count": 41,
   "id": "7e626644-717b-49fa-bdf8-f1532cde0088",
   "metadata": {},
   "outputs": [
    {
     "data": {
      "text/html": [
       "<div>\n",
       "<style scoped>\n",
       "    .dataframe tbody tr th:only-of-type {\n",
       "        vertical-align: middle;\n",
       "    }\n",
       "\n",
       "    .dataframe tbody tr th {\n",
       "        vertical-align: top;\n",
       "    }\n",
       "\n",
       "    .dataframe thead th {\n",
       "        text-align: right;\n",
       "    }\n",
       "</style>\n",
       "<table border=\"1\" class=\"dataframe\">\n",
       "  <thead>\n",
       "    <tr style=\"text-align: right;\">\n",
       "      <th></th>\n",
       "      <th>user_id</th>\n",
       "      <th>order_id</th>\n",
       "      <th>Date</th>\n",
       "      <th>Amount</th>\n",
       "      <th>Merchant_id</th>\n",
       "      <th>Purchase_status</th>\n",
       "      <th>Rate_pct</th>\n",
       "      <th>Revenue</th>\n",
       "      <th>add_month</th>\n",
       "    </tr>\n",
       "  </thead>\n",
       "  <tbody>\n",
       "    <tr>\n",
       "      <th>0</th>\n",
       "      <td>21269588</td>\n",
       "      <td>4169517626</td>\n",
       "      <td>2020-01-01</td>\n",
       "      <td>10000</td>\n",
       "      <td>13</td>\n",
       "      <td>NaN</td>\n",
       "      <td>3</td>\n",
       "      <td>30000</td>\n",
       "      <td>1</td>\n",
       "    </tr>\n",
       "    <tr>\n",
       "      <th>1</th>\n",
       "      <td>28097592</td>\n",
       "      <td>4170276686</td>\n",
       "      <td>2020-01-01</td>\n",
       "      <td>20000</td>\n",
       "      <td>13</td>\n",
       "      <td>NaN</td>\n",
       "      <td>3</td>\n",
       "      <td>60000</td>\n",
       "      <td>1</td>\n",
       "    </tr>\n",
       "    <tr>\n",
       "      <th>2</th>\n",
       "      <td>47435144</td>\n",
       "      <td>4166729310</td>\n",
       "      <td>2020-01-01</td>\n",
       "      <td>10000</td>\n",
       "      <td>12</td>\n",
       "      <td>NaN</td>\n",
       "      <td>2</td>\n",
       "      <td>20000</td>\n",
       "      <td>1</td>\n",
       "    </tr>\n",
       "    <tr>\n",
       "      <th>3</th>\n",
       "      <td>29080935</td>\n",
       "      <td>4174460303</td>\n",
       "      <td>2020-01-01</td>\n",
       "      <td>10000</td>\n",
       "      <td>13</td>\n",
       "      <td>NaN</td>\n",
       "      <td>3</td>\n",
       "      <td>30000</td>\n",
       "      <td>1</td>\n",
       "    </tr>\n",
       "    <tr>\n",
       "      <th>4</th>\n",
       "      <td>14591075</td>\n",
       "      <td>4168216749</td>\n",
       "      <td>2020-01-01</td>\n",
       "      <td>10000</td>\n",
       "      <td>12</td>\n",
       "      <td>NaN</td>\n",
       "      <td>2</td>\n",
       "      <td>20000</td>\n",
       "      <td>1</td>\n",
       "    </tr>\n",
       "  </tbody>\n",
       "</table>\n",
       "</div>"
      ],
      "text/plain": [
       "    user_id    order_id       Date  Amount  Merchant_id Purchase_status  \\\n",
       "0  21269588  4169517626 2020-01-01   10000           13             NaN   \n",
       "1  28097592  4170276686 2020-01-01   20000           13             NaN   \n",
       "2  47435144  4166729310 2020-01-01   10000           12             NaN   \n",
       "3  29080935  4174460303 2020-01-01   10000           13             NaN   \n",
       "4  14591075  4168216749 2020-01-01   10000           12             NaN   \n",
       "\n",
       "   Rate_pct  Revenue  add_month  \n",
       "0         3    30000          1  \n",
       "1         3    60000          1  \n",
       "2         2    20000          1  \n",
       "3         3    30000          1  \n",
       "4         2    20000          1  "
      ]
     },
     "execution_count": 41,
     "metadata": {},
     "output_type": "execute_result"
    }
   ],
   "source": [
    "df.head()"
   ]
  },
  {
   "cell_type": "code",
   "execution_count": 50,
   "id": "7cda2d43-db6f-4121-bef4-d6cae8f6d1c2",
   "metadata": {},
   "outputs": [],
   "source": [
    "jan_rev = df[df['add_month']== 1]\n",
    "jan_total_rev = sum(jan_rev['Revenue'])"
   ]
  },
  {
   "cell_type": "code",
   "execution_count": 51,
   "id": "adf718cf-f0f9-422f-93a5-993a995dd066",
   "metadata": {},
   "outputs": [
    {
     "data": {
      "text/plain": [
       "140982702"
      ]
     },
     "execution_count": 51,
     "metadata": {},
     "output_type": "execute_result"
    }
   ],
   "source": [
    "jan_total_rev"
   ]
  },
  {
   "cell_type": "markdown",
   "id": "ad4c86fc-941a-41ba-8653-0df1275a2e92",
   "metadata": {},
   "source": [
    "## Most Profitable Month"
   ]
  },
  {
   "cell_type": "code",
   "execution_count": 80,
   "id": "f0d21741-33f1-441c-bd85-020c48df01e3",
   "metadata": {},
   "outputs": [
    {
     "name": "stdout",
     "output_type": "stream",
     "text": [
      "              Revenue\n",
      "Date                 \n",
      "2020-01-31  140982702\n",
      "2020-02-29  137850000\n",
      "2020-03-31  158400000\n",
      "2020-04-30  148830000\n",
      "2020-05-31  146370000\n",
      "2020-06-30  161720000\n",
      "2020-07-31  158190000\n",
      "2020-08-31  161870000\n",
      "2020-09-30  170220000\n",
      "2020-10-31  169090000\n",
      "2020-11-30  153930000\n",
      "2020-12-31  163820000\n",
      "              Revenue\n",
      "Date                 \n",
      "2020-09-30  170220000\n",
      "2020-10-31  169090000\n",
      "2020-12-31  163820000\n"
     ]
    }
   ],
   "source": [
    "grouped = df[['Date', 'Revenue']]\n",
    "grouped.set_index('Date', inplace=True)\n",
    "monthly_revenue = grouped.resample('M').sum()\n",
    "print(monthly_revenue)\n",
    "\\\n",
    "print(monthly_revenue.nlargest(3,'Revenue'))"
   ]
  },
  {
   "cell_type": "markdown",
   "id": "b8689353-b415-49d7-a761-89303e9c6a79",
   "metadata": {},
   "source": [
    "## Most Profitable Week and Day"
   ]
  },
  {
   "cell_type": "code",
   "execution_count": 82,
   "id": "9d4f3cea-c5d2-4a3d-b890-3508c2525774",
   "metadata": {},
   "outputs": [
    {
     "name": "stdout",
     "output_type": "stream",
     "text": [
      "             Revenue\n",
      "Date                \n",
      "2020-01-05  18070000\n",
      "2020-01-12  31152702\n",
      "2020-01-19  32290000\n",
      "2020-01-26  33930000\n",
      "2020-02-02  33970000\n",
      "2020-02-09  33330000\n",
      "2020-02-16  30370000\n",
      "2020-02-23  28640000\n",
      "2020-03-01  41150000\n",
      "2020-03-08  28990000\n",
      "2020-03-15  38610000\n",
      "2020-03-22  40400000\n",
      "2020-03-29  35520000\n",
      "2020-04-05  31120000\n",
      "2020-04-12  38180000\n",
      "2020-04-19  30040000\n",
      "2020-04-26  34850000\n",
      "2020-05-03  37760000\n",
      "2020-05-10  28970000\n",
      "2020-05-17  33700000\n",
      "2020-05-24  35040000\n",
      "2020-05-31  36350000\n",
      "2020-06-07  36240000\n",
      "2020-06-14  37310000\n",
      "2020-06-21  32720000\n",
      "2020-06-28  41090000\n",
      "2020-07-05  33380000\n",
      "2020-07-12  37080000\n",
      "2020-07-19  31450000\n",
      "2020-07-26  36620000\n",
      "2020-08-02  41250000\n",
      "2020-08-09  38580000\n",
      "2020-08-16  37380000\n",
      "2020-08-23  36000000\n",
      "2020-08-30  34910000\n",
      "2020-09-06  40760000\n",
      "2020-09-13  37510000\n",
      "2020-09-20  36740000\n",
      "2020-09-27  42910000\n",
      "2020-10-04  40340000\n",
      "2020-10-11  34070000\n",
      "2020-10-18  37480000\n",
      "2020-10-25  38400000\n",
      "2020-11-01  41570000\n",
      "2020-11-08  32890000\n",
      "2020-11-15  36630000\n",
      "2020-11-22  35800000\n",
      "2020-11-29  35730000\n",
      "2020-12-06  37180000\n",
      "2020-12-13  34760000\n",
      "2020-12-20  36250000\n",
      "2020-12-27  39060000\n",
      "2021-01-03  26750000\n"
     ]
    }
   ],
   "source": [
    "weekly_revenue = grouped.resample('W').sum()\n",
    "print(weekly_revenue)"
   ]
  },
  {
   "cell_type": "code",
   "execution_count": 88,
   "id": "f0f1111d-d971-4d05-a0a5-a248338b3e74",
   "metadata": {},
   "outputs": [
    {
     "name": "stdout",
     "output_type": "stream",
     "text": [
      "Average Revenue by Day of Week:\n",
      " Day_Week\n",
      "Friday       140821.304131\n",
      "Monday       130443.756450\n",
      "Saturday     137609.994568\n",
      "Sunday       130804.240814\n",
      "Thursday     141119.059785\n",
      "Tuesday      140135.841170\n",
      "Wednesday    148253.507499\n",
      "Name: Revenue, dtype: float64\n",
      "\n",
      "Day with Most Revenue: Wednesday ($148,253.51)\n",
      "Day with Least Revenue: Monday ($130,443.76)\n"
     ]
    }
   ],
   "source": [
    "dw_group = df[['Date', 'Revenue']]\n",
    "dw_group['Date'] = pd.to_datetime(dw_group['Date'])\n",
    "dw_group['Day_Week'] = dw_group['Date'].dt.day_name()\n",
    "\n",
    "avg_revenue_by_day = dw_group.groupby('Day_Week')['Revenue'].mean()\n",
    "\n",
    "most_profit_day = avg_revenue_by_day.idxmax()\n",
    "least_profit_day = avg_revenue_by_day.idxmin()\n",
    "\n",
    "print(\"Average Revenue by Day of Week:\\n\", avg_revenue_by_day)\n",
    "print(f\"\\nDay with Most Revenue: {most_profit_day} (${avg_revenue_by_day.max():,.2f})\")\n",
    "print(f\"Day with Least Revenue: {least_profit_day} (${avg_revenue_by_day.min():,.2f})\")"
   ]
  },
  {
   "cell_type": "markdown",
   "id": "aae7ad3d-5b35-42df-ae54-ac89364ea75e",
   "metadata": {},
   "source": [
    "## December 2020 New Users"
   ]
  },
  {
   "cell_type": "code",
   "execution_count": 96,
   "id": "93c01657-d9f8-40e3-a8dc-8d68d113ccd4",
   "metadata": {},
   "outputs": [
    {
     "data": {
      "text/html": [
       "<div>\n",
       "<style scoped>\n",
       "    .dataframe tbody tr th:only-of-type {\n",
       "        vertical-align: middle;\n",
       "    }\n",
       "\n",
       "    .dataframe tbody tr th {\n",
       "        vertical-align: top;\n",
       "    }\n",
       "\n",
       "    .dataframe thead th {\n",
       "        text-align: right;\n",
       "    }\n",
       "</style>\n",
       "<table border=\"1\" class=\"dataframe\">\n",
       "  <thead>\n",
       "    <tr style=\"text-align: right;\">\n",
       "      <th></th>\n",
       "      <th>user_id</th>\n",
       "      <th>order_id</th>\n",
       "      <th>Date</th>\n",
       "      <th>Amount</th>\n",
       "      <th>Merchant_id</th>\n",
       "      <th>Purchase_status</th>\n",
       "      <th>First_tran_date</th>\n",
       "      <th>Location</th>\n",
       "      <th>Age</th>\n",
       "      <th>Gender</th>\n",
       "    </tr>\n",
       "  </thead>\n",
       "  <tbody>\n",
       "    <tr>\n",
       "      <th>0</th>\n",
       "      <td>21269588</td>\n",
       "      <td>4169517626</td>\n",
       "      <td>2020-01-01</td>\n",
       "      <td>10000</td>\n",
       "      <td>13</td>\n",
       "      <td>NaN</td>\n",
       "      <td>2018-12-11</td>\n",
       "      <td>HN</td>\n",
       "      <td>&gt;37</td>\n",
       "      <td>FEMALE</td>\n",
       "    </tr>\n",
       "    <tr>\n",
       "      <th>1</th>\n",
       "      <td>28097592</td>\n",
       "      <td>4170276686</td>\n",
       "      <td>2020-01-01</td>\n",
       "      <td>20000</td>\n",
       "      <td>13</td>\n",
       "      <td>NaN</td>\n",
       "      <td>2019-12-30</td>\n",
       "      <td>HN</td>\n",
       "      <td>&gt;37</td>\n",
       "      <td>FEMALE</td>\n",
       "    </tr>\n",
       "    <tr>\n",
       "      <th>2</th>\n",
       "      <td>47435144</td>\n",
       "      <td>4166729310</td>\n",
       "      <td>2020-01-01</td>\n",
       "      <td>10000</td>\n",
       "      <td>12</td>\n",
       "      <td>NaN</td>\n",
       "      <td>2019-11-11</td>\n",
       "      <td>HN</td>\n",
       "      <td>18_to_22</td>\n",
       "      <td>female</td>\n",
       "    </tr>\n",
       "    <tr>\n",
       "      <th>3</th>\n",
       "      <td>29080935</td>\n",
       "      <td>4174460303</td>\n",
       "      <td>2020-01-01</td>\n",
       "      <td>10000</td>\n",
       "      <td>13</td>\n",
       "      <td>NaN</td>\n",
       "      <td>2019-10-24</td>\n",
       "      <td>HN</td>\n",
       "      <td>18_to_22</td>\n",
       "      <td>female</td>\n",
       "    </tr>\n",
       "    <tr>\n",
       "      <th>4</th>\n",
       "      <td>14591075</td>\n",
       "      <td>4168216749</td>\n",
       "      <td>2020-01-01</td>\n",
       "      <td>10000</td>\n",
       "      <td>12</td>\n",
       "      <td>NaN</td>\n",
       "      <td>2019-12-28</td>\n",
       "      <td>Other Cities</td>\n",
       "      <td>18_to_22</td>\n",
       "      <td>FEMALE</td>\n",
       "    </tr>\n",
       "  </tbody>\n",
       "</table>\n",
       "</div>"
      ],
      "text/plain": [
       "    user_id    order_id        Date  Amount  Merchant_id Purchase_status  \\\n",
       "0  21269588  4169517626  2020-01-01   10000           13             NaN   \n",
       "1  28097592  4170276686  2020-01-01   20000           13             NaN   \n",
       "2  47435144  4166729310  2020-01-01   10000           12             NaN   \n",
       "3  29080935  4174460303  2020-01-01   10000           13             NaN   \n",
       "4  14591075  4168216749  2020-01-01   10000           12             NaN   \n",
       "\n",
       "  First_tran_date      Location       Age  Gender  \n",
       "0      2018-12-11            HN       >37  FEMALE  \n",
       "1      2019-12-30            HN       >37  FEMALE  \n",
       "2      2019-11-11            HN  18_to_22  female  \n",
       "3      2019-10-24            HN  18_to_22  female  \n",
       "4      2019-12-28  Other Cities  18_to_22  FEMALE  "
      ]
     },
     "execution_count": 96,
     "metadata": {},
     "output_type": "execute_result"
    }
   ],
   "source": [
    "df_user.rename(columns={'User_id': 'user_id'}, inplace=True)\n",
    "new_user_df = pd.merge(df_trans, df_user, on='user_id', how='outer')\n",
    "new_user_df.head()"
   ]
  },
  {
   "cell_type": "code",
   "execution_count": 109,
   "id": "e95653dc-bbbc-4a0a-a478-9f6b736d1b12",
   "metadata": {},
   "outputs": [],
   "source": [
    "new_user_df['Date'] = pd.to_datetime(new_user_df['Date'])\n",
    "new_user_df['First_tran_date'] = pd.to_datetime(new_user_df['First_tran_date'], errors='coerce')\n",
    "\n",
    "\n",
    "new_user_df['Current_tran_date'] = new_user_df['Date'].dt.to_period('M')\n",
    "new_user_df['First_tran'] = new_user_df['First_tran_date'].dt.to_period('M')\n",
    "\n",
    "new_user_df['Category'] = new_user_df.apply(lambda x: 'New' if x['Current_tran_date'] == x['First_tran'] else \n",
    "                                            'Current', axis=1)\n"
   ]
  },
  {
   "cell_type": "code",
   "execution_count": 117,
   "id": "f94f771e-5e1a-477a-83a0-a38d5dc493d4",
   "metadata": {},
   "outputs": [
    {
     "name": "stdout",
     "output_type": "stream",
     "text": [
      "Total number of new users in December 2020: 75\n"
     ]
    }
   ],
   "source": [
    "december2020_new_users = new_user_df[(new_user_df['Category'] == 'New') & \\\n",
    "(new_user_df['Current_tran_date'].dt.month == 12) & \\\n",
    "(new_user_df['Current_tran_date'].dt.year == 2020)]\n",
    "\n",
    "total_new_users = december2020_new_users.shape[0]\n",
    "\n",
    "print(\"Total number of new users in December 2020:\", total_new_users)"
   ]
  },
  {
   "cell_type": "code",
   "execution_count": null,
   "id": "8110b46f-8788-40eb-92c9-d863d0e9d032",
   "metadata": {},
   "outputs": [],
   "source": []
  }
 ],
 "metadata": {
  "kernelspec": {
   "display_name": "Python 3 (ipykernel)",
   "language": "python",
   "name": "python3"
  },
  "language_info": {
   "codemirror_mode": {
    "name": "ipython",
    "version": 3
   },
   "file_extension": ".py",
   "mimetype": "text/x-python",
   "name": "python",
   "nbconvert_exporter": "python",
   "pygments_lexer": "ipython3",
   "version": "3.11.8"
  }
 },
 "nbformat": 4,
 "nbformat_minor": 5
}
