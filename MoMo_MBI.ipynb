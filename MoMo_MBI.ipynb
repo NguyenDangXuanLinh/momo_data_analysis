{
 "cells": [
  {
   "cell_type": "code",
   "execution_count": 1,
   "id": "9cd30dc3-e65e-4a18-aecc-6fc5456b88ab",
   "metadata": {},
   "outputs": [],
   "source": [
    "import numpy as np \n",
    "import pandas as pd \n",
    "import seaborn as sns\n",
    "import matplotlib.pyplot as plt\n",
    "%matplotlib inline\n",
    "import warnings\n",
    "warnings.filterwarnings(\"ignore\")"
   ]
  },
  {
   "cell_type": "code",
   "execution_count": 29,
   "id": "45ea6a79-7718-49f5-bb1f-1953ad9d2f22",
   "metadata": {},
   "outputs": [],
   "source": [
    "df_trans = pd.read_csv(\"MoMo_analysis/MOMO_DATA-TRANSACTION.csv\")\n",
    "df_user = pd.read_csv(\"MoMo_analysis/MOMO_USER.csv\")\n",
    "df_commission = pd.read_csv(\"MoMo_analysis/MOMO_DATA_COMMISSION.csv\")"
   ]
  },
  {
   "cell_type": "code",
   "execution_count": 30,
   "id": "c681c053-a6a5-4871-8be6-b3a70ea74d0e",
   "metadata": {},
   "outputs": [],
   "source": [
    "def dataset_observation(dataset):\n",
    "    for i in dataset.columns:\n",
    "        rate = dataset[i].isna().sum() / len(dataset) * 100\n",
    "        if rate > 0: print('The missing rate of {} is {}'.format(i, round(rate, 2)))"
   ]
  },
  {
   "cell_type": "code",
   "execution_count": 31,
   "id": "173b3755-7f33-47d8-ae8d-8bbe4e4d73d9",
   "metadata": {},
   "outputs": [
    {
     "name": "stdout",
     "output_type": "stream",
     "text": [
      "----------Data Transactions----------\n",
      "The missing rate of Purchase_status is 83.44\n",
      "\n",
      "<class 'pandas.core.frame.DataFrame'>\n",
      "RangeIndex: 13495 entries, 0 to 13494\n",
      "Data columns (total 6 columns):\n",
      " #   Column           Non-Null Count  Dtype \n",
      "---  ------           --------------  ----- \n",
      " 0   user_id          13495 non-null  int64 \n",
      " 1   order_id         13495 non-null  int64 \n",
      " 2   Date             13495 non-null  object\n",
      " 3   Amount           13495 non-null  int64 \n",
      " 4   Merchant_id      13495 non-null  int64 \n",
      " 5   Purchase_status  2235 non-null   object\n",
      "dtypes: int64(4), object(2)\n",
      "memory usage: 632.7+ KB\n",
      "\n",
      "----------Users Data----------\n",
      "\n",
      "<class 'pandas.core.frame.DataFrame'>\n",
      "RangeIndex: 13428 entries, 0 to 13427\n",
      "Data columns (total 5 columns):\n",
      " #   Column           Non-Null Count  Dtype \n",
      "---  ------           --------------  ----- \n",
      " 0   User_id          13428 non-null  int64 \n",
      " 1   First_tran_date  13428 non-null  object\n",
      " 2   Location         13428 non-null  object\n",
      " 3   Age              13428 non-null  object\n",
      " 4   Gender           13428 non-null  object\n",
      "dtypes: int64(1), object(4)\n",
      "memory usage: 524.7+ KB\n",
      "\n",
      "----------Commission----------\n",
      "The missing rate of Merchant_name is 99.5\n",
      "The missing rate of Merchant_id is 99.5\n",
      "The missing rate of Rate_pct is 99.5\n",
      "\n",
      "<class 'pandas.core.frame.DataFrame'>\n",
      "RangeIndex: 999 entries, 0 to 998\n",
      "Data columns (total 3 columns):\n",
      " #   Column         Non-Null Count  Dtype  \n",
      "---  ------         --------------  -----  \n",
      " 0   Merchant_name  5 non-null      object \n",
      " 1   Merchant_id    5 non-null      float64\n",
      " 2   Rate_pct       5 non-null      float64\n",
      "dtypes: float64(2), object(1)\n",
      "memory usage: 23.5+ KB\n",
      "\n"
     ]
    }
   ],
   "source": [
    "title=['Data Transactions', 'Users Data', 'Commission']\n",
    "for i, dataset in enumerate([df_trans, df_user,df_commission]):\n",
    "    print('-'*10 + title[i] + '-'*10)\n",
    "    dataset_observation(dataset)\n",
    "    print()\n",
    "    dataset.info()\n",
    "    print()"
   ]
  },
  {
   "cell_type": "markdown",
   "id": "bda0c80c-9b73-488e-8e33-2395cca37e3d",
   "metadata": {},
   "source": [
    "-> 1 Missing in Purchase status but we do not use it now so I won't clean it yet"
   ]
  },
  {
   "attachments": {},
   "cell_type": "markdown",
   "id": "d8a72b43-325e-433d-9829-166731a4fb1c",
   "metadata": {},
   "source": [
    "# Processing\n",
    "\n",
    "1. Using data from the 'Commission' table, add a column 'Revenue' in the 'Transactions' table that displays MoMo's earned revenue for each order, and then calculate MoMo's total revenue in January 2020.\n",
    "2. What is MoMo's most profitable month?\n",
    "3. What day of the week does MoMo make the most money, on average? The least money?\n",
    "4. Combined with the 'User_Info' table, add columns: Age, Gender, Location, Type_user (New/Current) in 'Transactions' table and calculate the total number of new users in December 2020.\n",
    "   New = the transaction was in the month of the first time the user used Topup; Current = the user had used Topup before that month)"
   ]
  },
  {
   "cell_type": "code",
   "execution_count": 32,
   "id": "fc28c15b-a4b2-4a49-ab5e-f1452f84d6b4",
   "metadata": {},
   "outputs": [
    {
     "data": {
      "text/html": [
       "<div>\n",
       "<style scoped>\n",
       "    .dataframe tbody tr th:only-of-type {\n",
       "        vertical-align: middle;\n",
       "    }\n",
       "\n",
       "    .dataframe tbody tr th {\n",
       "        vertical-align: top;\n",
       "    }\n",
       "\n",
       "    .dataframe thead th {\n",
       "        text-align: right;\n",
       "    }\n",
       "</style>\n",
       "<table border=\"1\" class=\"dataframe\">\n",
       "  <thead>\n",
       "    <tr style=\"text-align: right;\">\n",
       "      <th></th>\n",
       "      <th>user_id</th>\n",
       "      <th>order_id</th>\n",
       "      <th>Date</th>\n",
       "      <th>Amount</th>\n",
       "      <th>Merchant_id</th>\n",
       "      <th>Purchase_status</th>\n",
       "    </tr>\n",
       "  </thead>\n",
       "  <tbody>\n",
       "    <tr>\n",
       "      <th>0</th>\n",
       "      <td>21269588</td>\n",
       "      <td>4169517626</td>\n",
       "      <td>2020-01-01</td>\n",
       "      <td>10000</td>\n",
       "      <td>13</td>\n",
       "      <td>NaN</td>\n",
       "    </tr>\n",
       "    <tr>\n",
       "      <th>1</th>\n",
       "      <td>28097592</td>\n",
       "      <td>4170276686</td>\n",
       "      <td>2020-01-01</td>\n",
       "      <td>20000</td>\n",
       "      <td>13</td>\n",
       "      <td>NaN</td>\n",
       "    </tr>\n",
       "    <tr>\n",
       "      <th>2</th>\n",
       "      <td>47435144</td>\n",
       "      <td>4166729310</td>\n",
       "      <td>2020-01-01</td>\n",
       "      <td>10000</td>\n",
       "      <td>12</td>\n",
       "      <td>NaN</td>\n",
       "    </tr>\n",
       "    <tr>\n",
       "      <th>3</th>\n",
       "      <td>29080935</td>\n",
       "      <td>4174460303</td>\n",
       "      <td>2020-01-01</td>\n",
       "      <td>10000</td>\n",
       "      <td>13</td>\n",
       "      <td>NaN</td>\n",
       "    </tr>\n",
       "    <tr>\n",
       "      <th>4</th>\n",
       "      <td>14591075</td>\n",
       "      <td>4168216749</td>\n",
       "      <td>2020-01-01</td>\n",
       "      <td>10000</td>\n",
       "      <td>12</td>\n",
       "      <td>NaN</td>\n",
       "    </tr>\n",
       "  </tbody>\n",
       "</table>\n",
       "</div>"
      ],
      "text/plain": [
       "    user_id    order_id        Date  Amount  Merchant_id Purchase_status\n",
       "0  21269588  4169517626  2020-01-01   10000           13             NaN\n",
       "1  28097592  4170276686  2020-01-01   20000           13             NaN\n",
       "2  47435144  4166729310  2020-01-01   10000           12             NaN\n",
       "3  29080935  4174460303  2020-01-01   10000           13             NaN\n",
       "4  14591075  4168216749  2020-01-01   10000           12             NaN"
      ]
     },
     "execution_count": 32,
     "metadata": {},
     "output_type": "execute_result"
    }
   ],
   "source": [
    "df_trans.head()"
   ]
  },
  {
   "cell_type": "code",
   "execution_count": 33,
   "id": "8d8e3d01-b07a-4422-9966-770f7e4fe76e",
   "metadata": {
    "scrolled": true
   },
   "outputs": [
    {
     "data": {
      "text/html": [
       "<div>\n",
       "<style scoped>\n",
       "    .dataframe tbody tr th:only-of-type {\n",
       "        vertical-align: middle;\n",
       "    }\n",
       "\n",
       "    .dataframe tbody tr th {\n",
       "        vertical-align: top;\n",
       "    }\n",
       "\n",
       "    .dataframe thead th {\n",
       "        text-align: right;\n",
       "    }\n",
       "</style>\n",
       "<table border=\"1\" class=\"dataframe\">\n",
       "  <thead>\n",
       "    <tr style=\"text-align: right;\">\n",
       "      <th></th>\n",
       "      <th>Merchant_name</th>\n",
       "      <th>Merchant_id</th>\n",
       "      <th>Rate_pct</th>\n",
       "    </tr>\n",
       "  </thead>\n",
       "  <tbody>\n",
       "    <tr>\n",
       "      <th>0</th>\n",
       "      <td>Viettel</td>\n",
       "      <td>12.0</td>\n",
       "      <td>2.0</td>\n",
       "    </tr>\n",
       "    <tr>\n",
       "      <th>1</th>\n",
       "      <td>Mobifone</td>\n",
       "      <td>13.0</td>\n",
       "      <td>3.0</td>\n",
       "    </tr>\n",
       "    <tr>\n",
       "      <th>2</th>\n",
       "      <td>Vinaphone</td>\n",
       "      <td>14.0</td>\n",
       "      <td>4.0</td>\n",
       "    </tr>\n",
       "    <tr>\n",
       "      <th>3</th>\n",
       "      <td>Vietnamobile</td>\n",
       "      <td>15.0</td>\n",
       "      <td>4.0</td>\n",
       "    </tr>\n",
       "    <tr>\n",
       "      <th>4</th>\n",
       "      <td>Gmobile</td>\n",
       "      <td>16.0</td>\n",
       "      <td>4.0</td>\n",
       "    </tr>\n",
       "  </tbody>\n",
       "</table>\n",
       "</div>"
      ],
      "text/plain": [
       "  Merchant_name  Merchant_id  Rate_pct\n",
       "0       Viettel         12.0       2.0\n",
       "1      Mobifone         13.0       3.0\n",
       "2     Vinaphone         14.0       4.0\n",
       "3  Vietnamobile         15.0       4.0\n",
       "4       Gmobile         16.0       4.0"
      ]
     },
     "execution_count": 33,
     "metadata": {},
     "output_type": "execute_result"
    }
   ],
   "source": [
    "df_commission.head()"
   ]
  },
  {
   "cell_type": "markdown",
   "id": "25809c9e-3cf5-46d9-88bc-7db62f5ba98e",
   "metadata": {},
   "source": [
    "## 1. Total Revenue"
   ]
  },
  {
   "cell_type": "code",
   "execution_count": 34,
   "id": "e09c9680-980f-493a-a097-f9df75d31480",
   "metadata": {},
   "outputs": [],
   "source": [
    "df = df_trans.copy()"
   ]
  },
  {
   "cell_type": "code",
   "execution_count": 40,
   "id": "e8b71106-9ef6-4e72-ac0e-2b4275db8853",
   "metadata": {},
   "outputs": [],
   "source": [
    "df['Rate_pct'] = df['Merchant_id'].apply(lambda x: 2 if x == 12 else\n",
    "                                        3 if x== 13 else 4)\n",
    "df[\"Revenue\"] = df[\"Amount\"] * df[\"Rate_pct\"]\n",
    "df['Date'] = df['Date'].str.strip()\n",
    "df['Date'] = pd.to_datetime(df['Date'])\n",
    "df['add_month'] = df['Date'].dt.month"
   ]
  },
  {
   "cell_type": "code",
   "execution_count": 41,
   "id": "7e626644-717b-49fa-bdf8-f1532cde0088",
   "metadata": {},
   "outputs": [
    {
     "data": {
      "text/html": [
       "<div>\n",
       "<style scoped>\n",
       "    .dataframe tbody tr th:only-of-type {\n",
       "        vertical-align: middle;\n",
       "    }\n",
       "\n",
       "    .dataframe tbody tr th {\n",
       "        vertical-align: top;\n",
       "    }\n",
       "\n",
       "    .dataframe thead th {\n",
       "        text-align: right;\n",
       "    }\n",
       "</style>\n",
       "<table border=\"1\" class=\"dataframe\">\n",
       "  <thead>\n",
       "    <tr style=\"text-align: right;\">\n",
       "      <th></th>\n",
       "      <th>user_id</th>\n",
       "      <th>order_id</th>\n",
       "      <th>Date</th>\n",
       "      <th>Amount</th>\n",
       "      <th>Merchant_id</th>\n",
       "      <th>Purchase_status</th>\n",
       "      <th>Rate_pct</th>\n",
       "      <th>Revenue</th>\n",
       "      <th>add_month</th>\n",
       "    </tr>\n",
       "  </thead>\n",
       "  <tbody>\n",
       "    <tr>\n",
       "      <th>0</th>\n",
       "      <td>21269588</td>\n",
       "      <td>4169517626</td>\n",
       "      <td>2020-01-01</td>\n",
       "      <td>10000</td>\n",
       "      <td>13</td>\n",
       "      <td>NaN</td>\n",
       "      <td>3</td>\n",
       "      <td>30000</td>\n",
       "      <td>1</td>\n",
       "    </tr>\n",
       "    <tr>\n",
       "      <th>1</th>\n",
       "      <td>28097592</td>\n",
       "      <td>4170276686</td>\n",
       "      <td>2020-01-01</td>\n",
       "      <td>20000</td>\n",
       "      <td>13</td>\n",
       "      <td>NaN</td>\n",
       "      <td>3</td>\n",
       "      <td>60000</td>\n",
       "      <td>1</td>\n",
       "    </tr>\n",
       "    <tr>\n",
       "      <th>2</th>\n",
       "      <td>47435144</td>\n",
       "      <td>4166729310</td>\n",
       "      <td>2020-01-01</td>\n",
       "      <td>10000</td>\n",
       "      <td>12</td>\n",
       "      <td>NaN</td>\n",
       "      <td>2</td>\n",
       "      <td>20000</td>\n",
       "      <td>1</td>\n",
       "    </tr>\n",
       "    <tr>\n",
       "      <th>3</th>\n",
       "      <td>29080935</td>\n",
       "      <td>4174460303</td>\n",
       "      <td>2020-01-01</td>\n",
       "      <td>10000</td>\n",
       "      <td>13</td>\n",
       "      <td>NaN</td>\n",
       "      <td>3</td>\n",
       "      <td>30000</td>\n",
       "      <td>1</td>\n",
       "    </tr>\n",
       "    <tr>\n",
       "      <th>4</th>\n",
       "      <td>14591075</td>\n",
       "      <td>4168216749</td>\n",
       "      <td>2020-01-01</td>\n",
       "      <td>10000</td>\n",
       "      <td>12</td>\n",
       "      <td>NaN</td>\n",
       "      <td>2</td>\n",
       "      <td>20000</td>\n",
       "      <td>1</td>\n",
       "    </tr>\n",
       "  </tbody>\n",
       "</table>\n",
       "</div>"
      ],
      "text/plain": [
       "    user_id    order_id       Date  Amount  Merchant_id Purchase_status  \\\n",
       "0  21269588  4169517626 2020-01-01   10000           13             NaN   \n",
       "1  28097592  4170276686 2020-01-01   20000           13             NaN   \n",
       "2  47435144  4166729310 2020-01-01   10000           12             NaN   \n",
       "3  29080935  4174460303 2020-01-01   10000           13             NaN   \n",
       "4  14591075  4168216749 2020-01-01   10000           12             NaN   \n",
       "\n",
       "   Rate_pct  Revenue  add_month  \n",
       "0         3    30000          1  \n",
       "1         3    60000          1  \n",
       "2         2    20000          1  \n",
       "3         3    30000          1  \n",
       "4         2    20000          1  "
      ]
     },
     "execution_count": 41,
     "metadata": {},
     "output_type": "execute_result"
    }
   ],
   "source": [
    "df.head()"
   ]
  },
  {
   "cell_type": "code",
   "execution_count": 50,
   "id": "7cda2d43-db6f-4121-bef4-d6cae8f6d1c2",
   "metadata": {},
   "outputs": [],
   "source": [
    "jan_rev = df[df['add_month']== 1]\n",
    "jan_total_rev = sum(jan_rev['Revenue'])"
   ]
  },
  {
   "cell_type": "code",
   "execution_count": 51,
   "id": "adf718cf-f0f9-422f-93a5-993a995dd066",
   "metadata": {},
   "outputs": [
    {
     "data": {
      "text/plain": [
       "140982702"
      ]
     },
     "execution_count": 51,
     "metadata": {},
     "output_type": "execute_result"
    }
   ],
   "source": [
    "jan_total_rev"
   ]
  },
  {
   "cell_type": "markdown",
   "id": "ad4c86fc-941a-41ba-8653-0df1275a2e92",
   "metadata": {},
   "source": [
    "## Most Profitable Month"
   ]
  },
  {
   "cell_type": "code",
   "execution_count": 80,
   "id": "f0d21741-33f1-441c-bd85-020c48df01e3",
   "metadata": {},
   "outputs": [
    {
     "name": "stdout",
     "output_type": "stream",
     "text": [
      "              Revenue\n",
      "Date                 \n",
      "2020-01-31  140982702\n",
      "2020-02-29  137850000\n",
      "2020-03-31  158400000\n",
      "2020-04-30  148830000\n",
      "2020-05-31  146370000\n",
      "2020-06-30  161720000\n",
      "2020-07-31  158190000\n",
      "2020-08-31  161870000\n",
      "2020-09-30  170220000\n",
      "2020-10-31  169090000\n",
      "2020-11-30  153930000\n",
      "2020-12-31  163820000\n",
      "              Revenue\n",
      "Date                 \n",
      "2020-09-30  170220000\n",
      "2020-10-31  169090000\n",
      "2020-12-31  163820000\n"
     ]
    }
   ],
   "source": [
    "grouped = df[['Date', 'Revenue']]\n",
    "grouped.set_index('Date', inplace=True)\n",
    "monthly_revenue = grouped.resample('M').sum()\n",
    "print(monthly_revenue)\n",
    "\\\n",
    "print(monthly_revenue.nlargest(3,'Revenue'))"
   ]
  },
  {
   "cell_type": "markdown",
   "id": "b8689353-b415-49d7-a761-89303e9c6a79",
   "metadata": {},
   "source": [
    "## Most Profitable Week and Day"
   ]
  },
  {
   "cell_type": "code",
   "execution_count": 82,
   "id": "9d4f3cea-c5d2-4a3d-b890-3508c2525774",
   "metadata": {},
   "outputs": [
    {
     "name": "stdout",
     "output_type": "stream",
     "text": [
      "             Revenue\n",
      "Date                \n",
      "2020-01-05  18070000\n",
      "2020-01-12  31152702\n",
      "2020-01-19  32290000\n",
      "2020-01-26  33930000\n",
      "2020-02-02  33970000\n",
      "2020-02-09  33330000\n",
      "2020-02-16  30370000\n",
      "2020-02-23  28640000\n",
      "2020-03-01  41150000\n",
      "2020-03-08  28990000\n",
      "2020-03-15  38610000\n",
      "2020-03-22  40400000\n",
      "2020-03-29  35520000\n",
      "2020-04-05  31120000\n",
      "2020-04-12  38180000\n",
      "2020-04-19  30040000\n",
      "2020-04-26  34850000\n",
      "2020-05-03  37760000\n",
      "2020-05-10  28970000\n",
      "2020-05-17  33700000\n",
      "2020-05-24  35040000\n",
      "2020-05-31  36350000\n",
      "2020-06-07  36240000\n",
      "2020-06-14  37310000\n",
      "2020-06-21  32720000\n",
      "2020-06-28  41090000\n",
      "2020-07-05  33380000\n",
      "2020-07-12  37080000\n",
      "2020-07-19  31450000\n",
      "2020-07-26  36620000\n",
      "2020-08-02  41250000\n",
      "2020-08-09  38580000\n",
      "2020-08-16  37380000\n",
      "2020-08-23  36000000\n",
      "2020-08-30  34910000\n",
      "2020-09-06  40760000\n",
      "2020-09-13  37510000\n",
      "2020-09-20  36740000\n",
      "2020-09-27  42910000\n",
      "2020-10-04  40340000\n",
      "2020-10-11  34070000\n",
      "2020-10-18  37480000\n",
      "2020-10-25  38400000\n",
      "2020-11-01  41570000\n",
      "2020-11-08  32890000\n",
      "2020-11-15  36630000\n",
      "2020-11-22  35800000\n",
      "2020-11-29  35730000\n",
      "2020-12-06  37180000\n",
      "2020-12-13  34760000\n",
      "2020-12-20  36250000\n",
      "2020-12-27  39060000\n",
      "2021-01-03  26750000\n"
     ]
    }
   ],
   "source": [
    "weekly_revenue = grouped.resample('W').sum()\n",
    "print(weekly_revenue)"
   ]
  },
  {
   "cell_type": "code",
   "execution_count": 88,
   "id": "f0f1111d-d971-4d05-a0a5-a248338b3e74",
   "metadata": {},
   "outputs": [
    {
     "name": "stdout",
     "output_type": "stream",
     "text": [
      "Average Revenue by Day of Week:\n",
      " Day_Week\n",
      "Friday       140821.304131\n",
      "Monday       130443.756450\n",
      "Saturday     137609.994568\n",
      "Sunday       130804.240814\n",
      "Thursday     141119.059785\n",
      "Tuesday      140135.841170\n",
      "Wednesday    148253.507499\n",
      "Name: Revenue, dtype: float64\n",
      "\n",
      "Day with Most Revenue: Wednesday ($148,253.51)\n",
      "Day with Least Revenue: Monday ($130,443.76)\n"
     ]
    }
   ],
   "source": [
    "dw_group = df[['Date', 'Revenue']]\n",
    "dw_group['Date'] = pd.to_datetime(dw_group['Date'])\n",
    "dw_group['Day_Week'] = dw_group['Date'].dt.day_name()\n",
    "\n",
    "avg_revenue_by_day = dw_group.groupby('Day_Week')['Revenue'].mean()\n",
    "\n",
    "most_profit_day = avg_revenue_by_day.idxmax()\n",
    "least_profit_day = avg_revenue_by_day.idxmin()\n",
    "\n",
    "print(\"Average Revenue by Day of Week:\\n\", avg_revenue_by_day)\n",
    "print(f\"\\nDay with Most Revenue: {most_profit_day} (${avg_revenue_by_day.max():,.2f})\")\n",
    "print(f\"Day with Least Revenue: {least_profit_day} (${avg_revenue_by_day.min():,.2f})\")"
   ]
  },
  {
   "cell_type": "markdown",
   "id": "aae7ad3d-5b35-42df-ae54-ac89364ea75e",
   "metadata": {},
   "source": []
  },
  {
   "cell_type": "code",
   "execution_count": 118,
   "id": "93c01657-d9f8-40e3-a8dc-8d68d113ccd4",
   "metadata": {},
   "outputs": [
    {
     "data": {
      "text/html": [
       "<div>\n",
       "<style scoped>\n",
       "    .dataframe tbody tr th:only-of-type {\n",
       "        vertical-align: middle;\n",
       "    }\n",
       "\n",
       "    .dataframe tbody tr th {\n",
       "        vertical-align: top;\n",
       "    }\n",
       "\n",
       "    .dataframe thead th {\n",
       "        text-align: right;\n",
       "    }\n",
       "</style>\n",
       "<table border=\"1\" class=\"dataframe\">\n",
       "  <thead>\n",
       "    <tr style=\"text-align: right;\">\n",
       "      <th></th>\n",
       "      <th>user_id</th>\n",
       "      <th>order_id</th>\n",
       "      <th>Date</th>\n",
       "      <th>Amount</th>\n",
       "      <th>Merchant_id</th>\n",
       "      <th>Purchase_status</th>\n",
       "      <th>First_tran_date</th>\n",
       "      <th>Location</th>\n",
       "      <th>Age</th>\n",
       "      <th>Gender</th>\n",
       "    </tr>\n",
       "  </thead>\n",
       "  <tbody>\n",
       "    <tr>\n",
       "      <th>0</th>\n",
       "      <td>21269588</td>\n",
       "      <td>4169517626</td>\n",
       "      <td>2020-01-01</td>\n",
       "      <td>10000</td>\n",
       "      <td>13</td>\n",
       "      <td>NaN</td>\n",
       "      <td>2018-12-11</td>\n",
       "      <td>HN</td>\n",
       "      <td>&gt;37</td>\n",
       "      <td>FEMALE</td>\n",
       "    </tr>\n",
       "    <tr>\n",
       "      <th>1</th>\n",
       "      <td>28097592</td>\n",
       "      <td>4170276686</td>\n",
       "      <td>2020-01-01</td>\n",
       "      <td>20000</td>\n",
       "      <td>13</td>\n",
       "      <td>NaN</td>\n",
       "      <td>2019-12-30</td>\n",
       "      <td>HN</td>\n",
       "      <td>&gt;37</td>\n",
       "      <td>FEMALE</td>\n",
       "    </tr>\n",
       "    <tr>\n",
       "      <th>2</th>\n",
       "      <td>47435144</td>\n",
       "      <td>4166729310</td>\n",
       "      <td>2020-01-01</td>\n",
       "      <td>10000</td>\n",
       "      <td>12</td>\n",
       "      <td>NaN</td>\n",
       "      <td>2019-11-11</td>\n",
       "      <td>HN</td>\n",
       "      <td>18_to_22</td>\n",
       "      <td>female</td>\n",
       "    </tr>\n",
       "    <tr>\n",
       "      <th>3</th>\n",
       "      <td>29080935</td>\n",
       "      <td>4174460303</td>\n",
       "      <td>2020-01-01</td>\n",
       "      <td>10000</td>\n",
       "      <td>13</td>\n",
       "      <td>NaN</td>\n",
       "      <td>2019-10-24</td>\n",
       "      <td>HN</td>\n",
       "      <td>18_to_22</td>\n",
       "      <td>female</td>\n",
       "    </tr>\n",
       "    <tr>\n",
       "      <th>4</th>\n",
       "      <td>14591075</td>\n",
       "      <td>4168216749</td>\n",
       "      <td>2020-01-01</td>\n",
       "      <td>10000</td>\n",
       "      <td>12</td>\n",
       "      <td>NaN</td>\n",
       "      <td>2019-12-28</td>\n",
       "      <td>Other Cities</td>\n",
       "      <td>18_to_22</td>\n",
       "      <td>FEMALE</td>\n",
       "    </tr>\n",
       "  </tbody>\n",
       "</table>\n",
       "</div>"
      ],
      "text/plain": [
       "    user_id    order_id        Date  Amount  Merchant_id Purchase_status  \\\n",
       "0  21269588  4169517626  2020-01-01   10000           13             NaN   \n",
       "1  28097592  4170276686  2020-01-01   20000           13             NaN   \n",
       "2  47435144  4166729310  2020-01-01   10000           12             NaN   \n",
       "3  29080935  4174460303  2020-01-01   10000           13             NaN   \n",
       "4  14591075  4168216749  2020-01-01   10000           12             NaN   \n",
       "\n",
       "  First_tran_date      Location       Age  Gender  \n",
       "0      2018-12-11            HN       >37  FEMALE  \n",
       "1      2019-12-30            HN       >37  FEMALE  \n",
       "2      2019-11-11            HN  18_to_22  female  \n",
       "3      2019-10-24            HN  18_to_22  female  \n",
       "4      2019-12-28  Other Cities  18_to_22  FEMALE  "
      ]
     },
     "execution_count": 118,
     "metadata": {},
     "output_type": "execute_result"
    }
   ],
   "source": [
    "df_user.rename(columns={'User_id': 'user_id'}, inplace=True)\n",
    "new_user_df = pd.merge(df_trans, df_user, on='user_id', how='outer')\n",
    "new_user_df.head()"
   ]
  },
  {
   "cell_type": "code",
   "execution_count": 119,
   "id": "e95653dc-bbbc-4a0a-a478-9f6b736d1b12",
   "metadata": {},
   "outputs": [],
   "source": [
    "new_user_df['Date'] = pd.to_datetime(new_user_df['Date'])\n",
    "new_user_df['First_tran_date'] = pd.to_datetime(new_user_df['First_tran_date'], errors='coerce')\n",
    "\n",
    "\n",
    "new_user_df['Current_tran_date'] = new_user_df['Date'].dt.to_period('M')\n",
    "new_user_df['First_tran'] = new_user_df['First_tran_date'].dt.to_period('M')\n",
    "\n",
    "new_user_df['Category'] = new_user_df.apply(lambda x: 'New' if x['Current_tran_date'] == x['First_tran'] else \n",
    "                                            'Current', axis=1)\n"
   ]
  },
  {
   "cell_type": "code",
   "execution_count": 120,
   "id": "f94f771e-5e1a-477a-83a0-a38d5dc493d4",
   "metadata": {},
   "outputs": [
    {
     "name": "stdout",
     "output_type": "stream",
     "text": [
      "Total number of new users in December 2020: 75\n"
     ]
    }
   ],
   "source": [
    "december2020_new_users = new_user_df[(new_user_df['Category'] == 'New') & \\\n",
    "(new_user_df['Current_tran_date'].dt.month == 12) & \\\n",
    "(new_user_df['Current_tran_date'].dt.year == 2020)]\n",
    "\n",
    "total_new_users = december2020_new_users.shape[0]\n",
    "\n",
    "print(\"Total number of new users in December 2020:\", total_new_users)"
   ]
  },
  {
   "cell_type": "markdown",
   "id": "4e69457b-a421-4750-ae20-b27ac47a0ae5",
   "metadata": {},
   "source": [
    "# Visualization\n",
    "Summary: total users, gender, new users\n",
    "Time Frame: Top month, year\n",
    "Revenue: monthly, yearly, ARPU"
   ]
  },
  {
   "cell_type": "code",
   "execution_count": 121,
   "id": "9e1b30e5-a868-4413-8eda-496998cd23bd",
   "metadata": {},
   "outputs": [],
   "source": [
    "data = pd.merge(df_trans, df_user, on='user_id', how='outer')"
   ]
  },
  {
   "cell_type": "code",
   "execution_count": 130,
   "id": "818ee49e-a6e7-453b-a7f9-9ae1fb46e9cd",
   "metadata": {},
   "outputs": [],
   "source": [
    "data['Gender'] = data['Gender'].str.replace('Nữ', 'FEMALE')\n",
    "data['Gender'] = data['Gender'].str.upper()"
   ]
  },
  {
   "cell_type": "code",
   "execution_count": 131,
   "id": "de86e069-5542-48eb-a722-e92c439dfc85",
   "metadata": {},
   "outputs": [
    {
     "data": {
      "text/html": [
       "<div>\n",
       "<style scoped>\n",
       "    .dataframe tbody tr th:only-of-type {\n",
       "        vertical-align: middle;\n",
       "    }\n",
       "\n",
       "    .dataframe tbody tr th {\n",
       "        vertical-align: top;\n",
       "    }\n",
       "\n",
       "    .dataframe thead th {\n",
       "        text-align: right;\n",
       "    }\n",
       "</style>\n",
       "<table border=\"1\" class=\"dataframe\">\n",
       "  <thead>\n",
       "    <tr style=\"text-align: right;\">\n",
       "      <th></th>\n",
       "      <th>user_id</th>\n",
       "      <th>order_id</th>\n",
       "      <th>Date</th>\n",
       "      <th>Amount</th>\n",
       "      <th>Merchant_id</th>\n",
       "      <th>Purchase_status</th>\n",
       "      <th>First_tran_date</th>\n",
       "      <th>Location</th>\n",
       "      <th>Age</th>\n",
       "      <th>Gender</th>\n",
       "    </tr>\n",
       "  </thead>\n",
       "  <tbody>\n",
       "    <tr>\n",
       "      <th>0</th>\n",
       "      <td>21269588</td>\n",
       "      <td>4169517626</td>\n",
       "      <td>2020-01-01</td>\n",
       "      <td>10000</td>\n",
       "      <td>13</td>\n",
       "      <td>NaN</td>\n",
       "      <td>2018-12-11</td>\n",
       "      <td>HN</td>\n",
       "      <td>&gt;37</td>\n",
       "      <td>FEMALE</td>\n",
       "    </tr>\n",
       "    <tr>\n",
       "      <th>1</th>\n",
       "      <td>28097592</td>\n",
       "      <td>4170276686</td>\n",
       "      <td>2020-01-01</td>\n",
       "      <td>20000</td>\n",
       "      <td>13</td>\n",
       "      <td>NaN</td>\n",
       "      <td>2019-12-30</td>\n",
       "      <td>HN</td>\n",
       "      <td>&gt;37</td>\n",
       "      <td>FEMALE</td>\n",
       "    </tr>\n",
       "    <tr>\n",
       "      <th>2</th>\n",
       "      <td>47435144</td>\n",
       "      <td>4166729310</td>\n",
       "      <td>2020-01-01</td>\n",
       "      <td>10000</td>\n",
       "      <td>12</td>\n",
       "      <td>NaN</td>\n",
       "      <td>2019-11-11</td>\n",
       "      <td>HN</td>\n",
       "      <td>18_to_22</td>\n",
       "      <td>FEMALE</td>\n",
       "    </tr>\n",
       "    <tr>\n",
       "      <th>3</th>\n",
       "      <td>29080935</td>\n",
       "      <td>4174460303</td>\n",
       "      <td>2020-01-01</td>\n",
       "      <td>10000</td>\n",
       "      <td>13</td>\n",
       "      <td>NaN</td>\n",
       "      <td>2019-10-24</td>\n",
       "      <td>HN</td>\n",
       "      <td>18_to_22</td>\n",
       "      <td>FEMALE</td>\n",
       "    </tr>\n",
       "    <tr>\n",
       "      <th>4</th>\n",
       "      <td>14591075</td>\n",
       "      <td>4168216749</td>\n",
       "      <td>2020-01-01</td>\n",
       "      <td>10000</td>\n",
       "      <td>12</td>\n",
       "      <td>NaN</td>\n",
       "      <td>2019-12-28</td>\n",
       "      <td>Other Cities</td>\n",
       "      <td>18_to_22</td>\n",
       "      <td>FEMALE</td>\n",
       "    </tr>\n",
       "  </tbody>\n",
       "</table>\n",
       "</div>"
      ],
      "text/plain": [
       "    user_id    order_id        Date  Amount  Merchant_id Purchase_status  \\\n",
       "0  21269588  4169517626  2020-01-01   10000           13             NaN   \n",
       "1  28097592  4170276686  2020-01-01   20000           13             NaN   \n",
       "2  47435144  4166729310  2020-01-01   10000           12             NaN   \n",
       "3  29080935  4174460303  2020-01-01   10000           13             NaN   \n",
       "4  14591075  4168216749  2020-01-01   10000           12             NaN   \n",
       "\n",
       "  First_tran_date      Location       Age  Gender  \n",
       "0      2018-12-11            HN       >37  FEMALE  \n",
       "1      2019-12-30            HN       >37  FEMALE  \n",
       "2      2019-11-11            HN  18_to_22  FEMALE  \n",
       "3      2019-10-24            HN  18_to_22  FEMALE  \n",
       "4      2019-12-28  Other Cities  18_to_22  FEMALE  "
      ]
     },
     "execution_count": 131,
     "metadata": {},
     "output_type": "execute_result"
    }
   ],
   "source": [
    "data.head()"
   ]
  },
  {
   "cell_type": "code",
   "execution_count": 132,
   "id": "d0d0bbb5-4242-477d-b045-45f1694d4a4d",
   "metadata": {},
   "outputs": [
    {
     "data": {
      "text/plain": [
       "array(['18_to_22', '23_to_27', '28_to_32', '33_to_37', '>37', 'unknown'],\n",
       "      dtype=object)"
      ]
     },
     "execution_count": 132,
     "metadata": {},
     "output_type": "execute_result"
    }
   ],
   "source": [
    "data['Age'].sort_values().unique()"
   ]
  },
  {
   "cell_type": "code",
   "execution_count": 134,
   "id": "5e0924b6-43a8-409b-bd84-37eadd95f1c2",
   "metadata": {},
   "outputs": [
    {
     "data": {
      "image/png": "[encoded data removed]",
      "text/plain": [
       "<Figure size 1200x600 with 1 Axes>"
      ]
     },
     "metadata": {},
     "output_type": "display_data"
    }
   ],
   "source": [
    "data = data.sort_values(by ='Age', ascending=True)\n",
    "plt.figure(dpi=150, figsize=(8,4))\n",
    "sns.set_style(\"white\")\n",
    "sns.histplot(data,\n",
    "            x='Age',\n",
    "             kde=True,\n",
    "             palette='bmh',  shrink=.7, color='C0')\n",
    "            \n",
    "plt.title('Age distribution ')\n",
    "plt.show()"
   ]
  },
  {
   "cell_type": "code",
   "execution_count": 151,
   "id": "5d5f854c-aed9-4d1b-bcda-f37ad826eff1",
   "metadata": {},
   "outputs": [
    {
     "data": {
      "image/png": "[encoded data removed]",
      "text/plain": [
       "<Figure size 1500x900 with 1 Axes>"
      ]
     },
     "metadata": {},
     "output_type": "display_data"
    }
   ],
   "source": [
    "age_range_gender = data.groupby(['Gender']).Age.value_counts().unstack().fillna(0).astype(int)\n",
    "    \n",
    "male = - age_range_gender.loc['MALE']\n",
    "female = age_range_gender.loc['FEMALE']\n",
    "\n",
    "fig, ax = plt.subplots(figsize=(10,6), dpi=150, facecolor='white')\n",
    "fig.text(0.05, 1.02, 'Gender distribution across different Age range', fontsize=15, fontweight='bold', fontfamily='serif')\n",
    "fig.text(0.05, .97, 'Overall, female customers are more than male customers although the differences are not significant', fontsize=12,\n",
    "             fontweight='light', fontfamily='serif')\n",
    "ax.bar(male.index, male, alpha=0.7, width=0.35, label= 'Male')\n",
    "ax.bar(female.index, female, alpha=0.7, width=0.35, label= 'Female')\n",
    "    \n",
    "ax.set_xlabel(\" \")\n",
    "ax.set_ylabel(' ')\n",
    "ax.set_xticks(male.index)\n",
    "ax.set_ylim(-2000,1600)\n",
    "\n",
    "ax.spines[['right', 'top','left']].set_visible(False)\n",
    "\n",
    "plt.grid(visible=True, axis=\"y\")\n",
    "ax.legend().set_visible(False)\n",
    "plt.tight_layout()"
   ]
  },
  {
   "cell_type": "code",
   "execution_count": 163,
   "id": "3f5f1e2e-7c57-4446-8b9b-68aed4333657",
   "metadata": {},
   "outputs": [
    {
     "data": {
      "image/png": "[encoded data removed]",
      "text/plain": [
       "<Figure size 400x400 with 1 Axes>"
      ]
     },
     "metadata": {},
     "output_type": "display_data"
    }
   ],
   "source": [
    "types = new_user_df.groupby('Category').size()\n",
    "\n",
    "fig, ax = plt.subplots(figsize=(4,4), facecolor='black')\n",
    "types.plot.pie(ax=ax, colors=['steelblue', 'darkred'],textprops={'fontsize': 12, 'color': 'white'}, autopct=lambda p: '{:.2f}%\\n({:.0f})'.format(p, (p/100)*types.sum()))\n",
    "plt.title('Users Distribution', fontsize=16, color='White')\n",
    "plt.show()"
   ]
  },
  {
   "cell_type": "code",
   "execution_count": 164,
   "id": "64f8bdbf-9161-49c1-988f-d8a1b07b8451",
   "metadata": {},
   "outputs": [],
   "source": [
    "users_df = new_user_df.copy()\n",
    "users_df['Gender'] = users_df['Gender'].str.replace('Nữ', 'FEMALE')\n",
    "users_df['Gender'] = users_df['Gender'].str.upper()\n",
    "\n",
    "data_new = users_df[['Category', 'Gender']].groupby('Category')['Gender'].value_counts().unstack()\n",
    "\n",
    "data_new['sum'] = data_new.sum(axis=1)\n",
    "data_new_ratio = (data_new.T / data_new['sum']).T[['MALE', 'FEMALE']].sort_values(by='FEMALE',ascending=False)[::-1]"
   ]
  },
  {
   "cell_type": "code",
   "execution_count": 187,
   "id": "cbb01833-5826-44f2-867c-309027b7207d",
   "metadata": {},
   "outputs": [
    {
     "data": {
      "image/png": "[encoded data removed]",
      "text/plain": [
       "<Figure size 1500x500 with 1 Axes>"
      ]
     },
     "metadata": {},
     "output_type": "display_data"
    }
   ],
   "source": [
    "fig, ax = plt.subplots(1,1,figsize=(15,5))\n",
    "\n",
    "ax.barh(data_new_ratio.index, data_new_ratio['FEMALE'], \n",
    "        color='darkmagenta', alpha=0.8, label='FEMALE')\n",
    "\n",
    "ax.barh(data_new_ratio.index, data_new_ratio['MALE'], left=data_new_ratio['FEMALE'], \n",
    "        color='darkblue', alpha=0.8, label='MALE')\n",
    "\n",
    "ax.set_yticklabels(data_new_ratio.index, fontfamily='serif', fontsize=11)\n",
    "ax.set_xticks([])\n",
    "\n",
    "for i in data_new_ratio.index:\n",
    "    ax.annotate(f\"{data_new_ratio['FEMALE'][i]*100:.3}% Female\",\n",
    "                   xy=(data_new_ratio['FEMALE'][i]/2, i),\n",
    "                   va = 'center', ha='center',fontsize=12, fontweight='light', fontfamily='serif',\n",
    "                   color='white')\n",
    "\n",
    "\n",
    "for i in data_new_ratio.index:\n",
    "    ax.annotate(f\"{data_new_ratio['MALE'][i]*100:.3}% Male\", \n",
    "                   xy=(data_new_ratio['FEMALE'][i]+data_new_ratio['MALE'][i]/2, i),\n",
    "                   va = 'center', ha='center',fontsize=12, fontweight='light', fontfamily='serif',\n",
    "                   color='white')\n",
    "\n",
    "ax.spines[:].set_visible(False)\n",
    "ax.legend().set_visible(False)\n",
    "plt.show()\n"
   ]
  },
  {
   "cell_type": "code",
   "execution_count": 195,
   "id": "97d9491c-5de9-4353-b2af-4695993b503a",
   "metadata": {},
   "outputs": [
    {
     "data": {
      "text/html": [
       "<div>\n",
       "<style scoped>\n",
       "    .dataframe tbody tr th:only-of-type {\n",
       "        vertical-align: middle;\n",
       "    }\n",
       "\n",
       "    .dataframe tbody tr th {\n",
       "        vertical-align: top;\n",
       "    }\n",
       "\n",
       "    .dataframe thead th {\n",
       "        text-align: right;\n",
       "    }\n",
       "</style>\n",
       "<table border=\"1\" class=\"dataframe\">\n",
       "  <thead>\n",
       "    <tr style=\"text-align: right;\">\n",
       "      <th></th>\n",
       "      <th>Revenue</th>\n",
       "    </tr>\n",
       "    <tr>\n",
       "      <th>Date</th>\n",
       "      <th></th>\n",
       "    </tr>\n",
       "  </thead>\n",
       "  <tbody>\n",
       "    <tr>\n",
       "      <th>2020-01-31</th>\n",
       "      <td>140982702</td>\n",
       "    </tr>\n",
       "    <tr>\n",
       "      <th>2020-02-29</th>\n",
       "      <td>137850000</td>\n",
       "    </tr>\n",
       "    <tr>\n",
       "      <th>2020-03-31</th>\n",
       "      <td>158400000</td>\n",
       "    </tr>\n",
       "    <tr>\n",
       "      <th>2020-04-30</th>\n",
       "      <td>148830000</td>\n",
       "    </tr>\n",
       "    <tr>\n",
       "      <th>2020-05-31</th>\n",
       "      <td>146370000</td>\n",
       "    </tr>\n",
       "    <tr>\n",
       "      <th>2020-06-30</th>\n",
       "      <td>161720000</td>\n",
       "    </tr>\n",
       "    <tr>\n",
       "      <th>2020-07-31</th>\n",
       "      <td>158190000</td>\n",
       "    </tr>\n",
       "    <tr>\n",
       "      <th>2020-08-31</th>\n",
       "      <td>161870000</td>\n",
       "    </tr>\n",
       "    <tr>\n",
       "      <th>2020-09-30</th>\n",
       "      <td>170220000</td>\n",
       "    </tr>\n",
       "    <tr>\n",
       "      <th>2020-10-31</th>\n",
       "      <td>169090000</td>\n",
       "    </tr>\n",
       "    <tr>\n",
       "      <th>2020-11-30</th>\n",
       "      <td>153930000</td>\n",
       "    </tr>\n",
       "    <tr>\n",
       "      <th>2020-12-31</th>\n",
       "      <td>163820000</td>\n",
       "    </tr>\n",
       "  </tbody>\n",
       "</table>\n",
       "</div>"
      ],
      "text/plain": [
       "              Revenue\n",
       "Date                 \n",
       "2020-01-31  140982702\n",
       "2020-02-29  137850000\n",
       "2020-03-31  158400000\n",
       "2020-04-30  148830000\n",
       "2020-05-31  146370000\n",
       "2020-06-30  161720000\n",
       "2020-07-31  158190000\n",
       "2020-08-31  161870000\n",
       "2020-09-30  170220000\n",
       "2020-10-31  169090000\n",
       "2020-11-30  153930000\n",
       "2020-12-31  163820000"
      ]
     },
     "execution_count": 195,
     "metadata": {},
     "output_type": "execute_result"
    }
   ],
   "source": [
    "monthly_revenue"
   ]
  },
  {
   "cell_type": "code",
   "execution_count": 212,
   "id": "f609a947-a82d-4f1d-be0b-b68daff05f1f",
   "metadata": {},
   "outputs": [
    {
     "name": "stdout",
     "output_type": "stream",
     "text": [
      "              Revenue\n",
      "Date                 \n",
      "2020-03-31  437232702\n",
      "2020-06-30  456920000\n",
      "2020-09-30  490280000\n",
      "2020-12-31  486840000\n"
     ]
    }
   ],
   "source": [
    "time = monthly_revenue.copy()\n",
    "\n",
    "quarterly_sum = time.resample('Q').sum()\n",
    "print(quarterly_sum)\n"
   ]
  },
  {
   "cell_type": "code",
   "execution_count": 242,
   "id": "25cd972f-8e72-44e3-bbc7-d31248208f80",
   "metadata": {},
   "outputs": [
    {
     "data": {
      "text/html": [
       "<div>\n",
       "<style scoped>\n",
       "    .dataframe tbody tr th:only-of-type {\n",
       "        vertical-align: middle;\n",
       "    }\n",
       "\n",
       "    .dataframe tbody tr th {\n",
       "        vertical-align: top;\n",
       "    }\n",
       "\n",
       "    .dataframe thead th {\n",
       "        text-align: right;\n",
       "    }\n",
       "</style>\n",
       "<table border=\"1\" class=\"dataframe\">\n",
       "  <thead>\n",
       "    <tr style=\"text-align: right;\">\n",
       "      <th></th>\n",
       "      <th>level_0</th>\n",
       "      <th>index</th>\n",
       "      <th>Date</th>\n",
       "      <th>Revenue</th>\n",
       "    </tr>\n",
       "  </thead>\n",
       "  <tbody>\n",
       "    <tr>\n",
       "      <th>0</th>\n",
       "      <td>0</td>\n",
       "      <td>0</td>\n",
       "      <td>2020-01-31</td>\n",
       "      <td>140982702</td>\n",
       "    </tr>\n",
       "    <tr>\n",
       "      <th>1</th>\n",
       "      <td>1</td>\n",
       "      <td>1</td>\n",
       "      <td>2020-02-29</td>\n",
       "      <td>137850000</td>\n",
       "    </tr>\n",
       "    <tr>\n",
       "      <th>2</th>\n",
       "      <td>2</td>\n",
       "      <td>2</td>\n",
       "      <td>2020-03-31</td>\n",
       "      <td>158400000</td>\n",
       "    </tr>\n",
       "    <tr>\n",
       "      <th>3</th>\n",
       "      <td>3</td>\n",
       "      <td>3</td>\n",
       "      <td>2020-04-30</td>\n",
       "      <td>148830000</td>\n",
       "    </tr>\n",
       "    <tr>\n",
       "      <th>4</th>\n",
       "      <td>4</td>\n",
       "      <td>4</td>\n",
       "      <td>2020-05-31</td>\n",
       "      <td>146370000</td>\n",
       "    </tr>\n",
       "    <tr>\n",
       "      <th>5</th>\n",
       "      <td>5</td>\n",
       "      <td>5</td>\n",
       "      <td>2020-06-30</td>\n",
       "      <td>161720000</td>\n",
       "    </tr>\n",
       "    <tr>\n",
       "      <th>6</th>\n",
       "      <td>6</td>\n",
       "      <td>6</td>\n",
       "      <td>2020-07-31</td>\n",
       "      <td>158190000</td>\n",
       "    </tr>\n",
       "    <tr>\n",
       "      <th>7</th>\n",
       "      <td>7</td>\n",
       "      <td>7</td>\n",
       "      <td>2020-08-31</td>\n",
       "      <td>161870000</td>\n",
       "    </tr>\n",
       "    <tr>\n",
       "      <th>8</th>\n",
       "      <td>8</td>\n",
       "      <td>8</td>\n",
       "      <td>2020-09-30</td>\n",
       "      <td>170220000</td>\n",
       "    </tr>\n",
       "    <tr>\n",
       "      <th>9</th>\n",
       "      <td>9</td>\n",
       "      <td>9</td>\n",
       "      <td>2020-10-31</td>\n",
       "      <td>169090000</td>\n",
       "    </tr>\n",
       "    <tr>\n",
       "      <th>10</th>\n",
       "      <td>10</td>\n",
       "      <td>10</td>\n",
       "      <td>2020-11-30</td>\n",
       "      <td>153930000</td>\n",
       "    </tr>\n",
       "    <tr>\n",
       "      <th>11</th>\n",
       "      <td>11</td>\n",
       "      <td>11</td>\n",
       "      <td>2020-12-31</td>\n",
       "      <td>163820000</td>\n",
       "    </tr>\n",
       "  </tbody>\n",
       "</table>\n",
       "</div>"
      ],
      "text/plain": [
       "    level_0  index       Date    Revenue\n",
       "0         0      0 2020-01-31  140982702\n",
       "1         1      1 2020-02-29  137850000\n",
       "2         2      2 2020-03-31  158400000\n",
       "3         3      3 2020-04-30  148830000\n",
       "4         4      4 2020-05-31  146370000\n",
       "5         5      5 2020-06-30  161720000\n",
       "6         6      6 2020-07-31  158190000\n",
       "7         7      7 2020-08-31  161870000\n",
       "8         8      8 2020-09-30  170220000\n",
       "9         9      9 2020-10-31  169090000\n",
       "10       10     10 2020-11-30  153930000\n",
       "11       11     11 2020-12-31  163820000"
      ]
     },
     "execution_count": 242,
     "metadata": {},
     "output_type": "execute_result"
    }
   ],
   "source": [
    "time"
   ]
  },
  {
   "cell_type": "code",
   "execution_count": null,
   "id": "9c9e35d2-454b-4905-ad6d-70f69bf8e56c",
   "metadata": {},
   "outputs": [],
   "source": [
    "fig, ax = plt.subplots(1, 1, figsize=(15, 6))\n",
    "plt.plot(time['Date'],time['Revenue'], '-.', linewidth=5, marker='o', markersize=14, color='darkblue', alpha=0.8)\n",
    "\n",
    "ax.spines[['right', 'top']].set_visible(False)\n",
    "plt.xticks(df['Date'], df['Date'].dt.strftime('%b'), rotation=45)\n",
    "plt.ylabel('Revenue ($)')\n",
    "plt.xlabel('Date')\n",
    "plt.grid(True)\n",
    "plt.show()"
   ]
  },
  {
   "cell_type": "code",
   "execution_count": null,
   "id": "5f66fa3e-a5dd-4bac-9656-b12ae66713a6",
   "metadata": {},
   "outputs": [],
   "source": [
    "dw_group = df[['Date', 'Revenue']]\n",
    "dw_group['Date'] = pd.to_datetime(dw_group['Date'])\n",
    "dw_group['Day_Week'] = dw_group['Date'].dt.day_name()\n",
    "\n",
    "avg_revenue_by_day = dw_group.groupby('Day_Week')['Revenue'].mean()\n",
    "\n",
    "most_profit_day = avg_revenue_by_day.idxmax()\n",
    "least_profit_day = avg_revenue_by_day.idxmin()\n",
    "\n",
    "print(\"Average Revenue by Day of Week:\\n\", avg_revenue_by_day)\n",
    "print(f\"\\nDay with Most Revenue: {most_profit_day} (${avg_revenue_by_day.max():,.2f})\")\n",
    "print(f\"Day with Least Revenue: {least_profit_day} (${avg_revenue_by_day.min():,.2f})\")"
   ]
  }
 ],
 "metadata": {
  "kernelspec": {
   "display_name": "Python 3 (ipykernel)",
   "language": "python",
   "name": "python3"
  },
  "language_info": {
   "codemirror_mode": {
    "name": "ipython",
    "version": 3
   },
   "file_extension": ".py",
   "mimetype": "text/x-python",
   "name": "python",
   "nbconvert_exporter": "python",
   "pygments_lexer": "ipython3",
   "version": "3.11.8"
  }
 },
 "nbformat": 4,
 "nbformat_minor": 5
}
